{
 "cells": [
  {
   "cell_type": "code",
   "execution_count": 65,
   "id": "e9d4fe62-adf2-4b92-af0a-4dfd95ba86c0",
   "metadata": {},
   "outputs": [
    {
     "name": "stdout",
     "output_type": "stream",
     "text": [
      "Overwriting fapp.py\n"
     ]
    }
   ],
   "source": [
    "%%writefile fapp.py \n",
    "\n",
    "import streamlit as st\n",
    "import plotly.express as px\n",
    "\n",
    "\n",
    "st.set_page_config(\n",
    "    layout=\"wide\",\n",
    "    page_title=\"Simple Dashboard\"\n",
    ")\n",
    "df= px.data.tips()\n",
    "\n",
    "# side bar\n",
    "x= st.sidebar.checkbox('Show Data', False, key=1)\n",
    "day= st.sidebar.selectbox('Select day', df['day'].unique())\n",
    "time= st.sidebar.selectbox('Select Meal Time', df['time'].unique())\n",
    "\n",
    "size= st.sidebar.radio(\"Select how many Dishes\", sorted(df['size'].unique()),5, horizontal=True)\n",
    "\n",
    "if x:\n",
    "    st.header('Dataset Sample')\n",
    "    st.dataframe(df.head(8))\n",
    "\n",
    "\n",
    "# page content \n",
    "col1, col2, col3 = st.columns([5,5,5])\n",
    "\n",
    "with col1:\n",
    "    new_df1 = df[df['day'] == day]\n",
    "    fig = px.histogram(new_df1, x = 'total_bill', color = 'sex',\n",
    "                       title=f'totalt bill for {day}day'.title(), width = 700)\n",
    "    st.plotly_chart(fig,use_container_width=True)\n",
    "    new_df1 = df[df['size'] == size]\n",
    "    fig = px.pie(new_df1, names = 'time', color = 'sex',\n",
    "                 title=f'count of each meal time according to {size} dishes'.title()).update_traces(textinfo='value')\n",
    "    st.plotly_chart(fig,use_container_width=True)\n",
    "\n",
    "\n",
    "with col3:\n",
    "    new_df2= df[df['time']== time]\n",
    "    fig = px.scatter(new_df2, x='total_bill', y= 'tip',template=\"presentation\",\n",
    "                     size_max=20, color='sex', title=f'correlation between total bill and tip on {time}')\n",
    "    st.plotly_chart(fig,use_container_width=True)\n",
    "    fig= px.sunburst(df, path=['day', 'time'], color= 'tip', \n",
    "                    title= 'counting over day, time and size over tips'.title()).update_traces(textinfo='value')\n",
    "    st.plotly_chart(fig, use_container_width=True)\n"
   ]
  },
  {
   "cell_type": "code",
   "execution_count": 1,
   "id": "c6581ab7-f0bf-4410-abcd-e67924e2b3a9",
   "metadata": {},
   "outputs": [
    {
     "name": "stdout",
     "output_type": "stream",
     "text": [
      "^C\n"
     ]
    }
   ],
   "source": [
    "!streamlit run fapp.py"
   ]
  },
  {
   "cell_type": "code",
   "execution_count": 2,
   "id": "3161474b-7405-4e6d-bc3f-9c731c4f5dc2",
   "metadata": {},
   "outputs": [],
   "source": [
    "import os"
   ]
  },
  {
   "cell_type": "code",
   "execution_count": 13,
   "id": "070720d5-f19c-4f6a-b28a-bae51d69311c",
   "metadata": {},
   "outputs": [
    {
     "data": {
      "text/plain": [
       "'F:\\\\Epsilon_AI\\\\round\\\\Visualization\\\\Code\\\\multipage3'"
      ]
     },
     "execution_count": 13,
     "metadata": {},
     "output_type": "execute_result"
    }
   ],
   "source": [
    "os.getcwd()"
   ]
  },
  {
   "cell_type": "code",
   "execution_count": 15,
   "id": "52ce4f09-a357-4622-ac01-b3e6745f37ce",
   "metadata": {},
   "outputs": [
    {
     "name": "stdout",
     "output_type": "stream",
     "text": [
      "F:\\Epsilon_AI\\round\\Visualization\\Code\n"
     ]
    }
   ],
   "source": [
    "%cd ..\n"
   ]
  },
  {
   "cell_type": "markdown",
   "id": "46178176-552c-4641-a029-925008dd3903",
   "metadata": {},
   "source": [
    "## Second Dashboard"
   ]
  },
  {
   "cell_type": "code",
   "execution_count": 16,
   "id": "e00fb208-f75c-4330-b272-97da6c5aab59",
   "metadata": {},
   "outputs": [
    {
     "name": "stdout",
     "output_type": "stream",
     "text": [
      "F:\\Epsilon_AI\\round\\Visualization\\Code\\multipage4\n"
     ]
    }
   ],
   "source": [
    "%mkdir multipage4\n",
    "%cd multipage4"
   ]
  },
  {
   "cell_type": "code",
   "execution_count": 17,
   "id": "3be7205e-f0cd-4dee-ba72-e58b8b48fa1e",
   "metadata": {},
   "outputs": [
    {
     "name": "stdout",
     "output_type": "stream",
     "text": [
      "Writing homepage.py\n"
     ]
    }
   ],
   "source": [
    "%%writefile homepage.py\n",
    "\n",
    "import streamlit as st\n",
    "import plotly.express as px\n",
    "\n",
    "st.set_page_config(\n",
    "    layout='wide',\n",
    "    page_title='tips Home Page',\n",
    "    page_icon= '🪙'\n",
    ")\n",
    "\n",
    "df= px.data.tips()\n",
    "\n",
    "# side bar\n",
    "\n",
    "st.sidebar.success('Select Page Above')\n",
    "x = st.sidebar.checkbox('Show Data', True, key=1)\n",
    "st.markdown('<h1 style= \"text-align:center; color: cyan ;\">Home Page for Dashboard</h1>', unsafe_allow_html= True)\n",
    "\n",
    "col1, col2, col3 = st.columns([3,4,3])\n",
    "\n",
    "with col2:\n",
    "    if x :\n",
    "        st.markdown('<h3 style=\"text-align: center; color : MediumAquaMarine;\">Dataset</h3>', unsafe_allow_html=True)\n",
    "        st.dataframe(df.copy(), 800, 500)"
   ]
  },
  {
   "cell_type": "code",
   "execution_count": 18,
   "id": "b4da6d24-9113-42f1-8f19-e49d545717fd",
   "metadata": {},
   "outputs": [
    {
     "name": "stdout",
     "output_type": "stream",
     "text": [
      "F:\\Epsilon_AI\\round\\Visualization\\Code\\multipage4\\pages\n"
     ]
    }
   ],
   "source": [
    "%mkdir pages\n",
    "%cd pages"
   ]
  },
  {
   "cell_type": "code",
   "execution_count": 19,
   "id": "9bfb0d90-0e9a-4044-97a4-3d1e8b0a187f",
   "metadata": {},
   "outputs": [
    {
     "name": "stdout",
     "output_type": "stream",
     "text": [
      "Writing Charts.py\n"
     ]
    }
   ],
   "source": [
    "%%writefile Charts.py\n",
    "\n",
    "import streamlit as st\n",
    "import plotly.express as px\n",
    "\n",
    "st.set_page_config(\n",
    "    layout='wide',\n",
    "    page_title='Dashboard',\n",
    "    page_icon= '📊'\n",
    ")\n",
    "\n",
    "tap1, tap2 = st.tabs(['📈 Describtive Stats','📊 Charts'])\n",
    "df= px.data.tips()\n",
    "num= df.describe()\n",
    "cat= df.describe(include='O')\n",
    "\n",
    "with tap1:\n",
    "    col1, col2, col3 = st.columns([6,0.5,6])\n",
    "    with col1:\n",
    "        st.subheader('Numerical Describtive Statistics')\n",
    "        st.dataframe(num.T, 700, 150)\n",
    "\n",
    "    with col3:\n",
    "        st.subheader('Categorical Describtive Statistics')\n",
    "        st.dataframe(cat, 500, 200)\n",
    "\n",
    "\n",
    "with tap2:\n",
    "    day = st.sidebar.selectbox(\"Select Day\", df['day'].unique())\n",
    "    time = st.sidebar.selectbox('select Meal Time', df['time'].unique())\n",
    "    size = st.sidebar.radio('Select How many Dishes', sorted(df['size'].unique()), 3, horizontal=True)\n",
    "    col1, col2, col3 = st.columns([5,1, 5])\n",
    "\n",
    "    with col1:\n",
    "        new_df1 = df[df['day'] == day]\n",
    "        fig = px.histogram(new_df1, x = 'total_bill', color = 'sex',\n",
    "                           title=f'totalt bill for {day}day'.title(), color_discrete_sequence=px.colors.qualitative.Bold)\n",
    "        st.plotly_chart(fig,use_container_width=True)\n",
    "        \n",
    "        \n",
    "        new_df2 = df[df['time'] == time]\n",
    "        fig = px.scatter(new_df2, x='total_bill', y = 'tip', size = 'size', size_max=20,color = 'sex',\n",
    "                         title=f'correlation between total bill and tips on {time}', color_discrete_sequence=px.colors.qualitative.Bold)\n",
    "        st.plotly_chart(fig,use_container_width=True)\n",
    "\n",
    "\n",
    "\n",
    "    with col3:\n",
    "        new_df1 = df[df['size'] == size]\n",
    "        fig = px.pie(new_df1, names = 'time', color = 'sex',\n",
    "                     title=f'count of each meal time according to {size} dishes'.title(),\n",
    "                     color_discrete_sequence=px.colors.qualitative.Bold).update_traces(textinfo='value')\n",
    "        st.plotly_chart(fig,use_container_width=True)\n",
    "        \n",
    "        \n",
    "        fig = px.treemap(df, path= ['day', 'time', 'size'], color = 'tip',\n",
    "                          title=f'counting over day, time and size over tips'.title(),color_continuous_scale= px.colors.sequential.Mint)\n",
    "        st.plotly_chart(fig,use_container_width=True)\n"
   ]
  },
  {
   "cell_type": "code",
   "execution_count": 20,
   "id": "a4408843-2787-495e-b927-312780232d32",
   "metadata": {},
   "outputs": [
    {
     "name": "stdout",
     "output_type": "stream",
     "text": [
      "F:\\Epsilon_AI\\round\\Visualization\\Code\\multipage4\n",
      "^C\n"
     ]
    }
   ],
   "source": [
    "%cd ..\n",
    "!streamlit run homepage.py"
   ]
  },
  {
   "cell_type": "code",
   "execution_count": null,
   "id": "bc345cc4-e5ce-424f-92f8-f30724056838",
   "metadata": {},
   "outputs": [],
   "source": []
  }
 ],
 "metadata": {
  "kernelspec": {
   "display_name": "Python 3 (ipykernel)",
   "language": "python",
   "name": "python3"
  },
  "language_info": {
   "codemirror_mode": {
    "name": "ipython",
    "version": 3
   },
   "file_extension": ".py",
   "mimetype": "text/x-python",
   "name": "python",
   "nbconvert_exporter": "python",
   "pygments_lexer": "ipython3",
   "version": "3.13.0"
  }
 },
 "nbformat": 4,
 "nbformat_minor": 5
}
